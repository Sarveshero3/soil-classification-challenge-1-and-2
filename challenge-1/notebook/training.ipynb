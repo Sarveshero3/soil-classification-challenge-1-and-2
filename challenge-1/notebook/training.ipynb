"""

Author: Annam.ai IIT Ropar
Team Name: SoilClassifiers
Team Members: Member-1, Member-2, Member-3, Member-4, Member-5
Leaderboard Rank: <Your Rank>

"""

# Here you add the training.ipynb file used for training your model.
